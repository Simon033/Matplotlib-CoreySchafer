{
 "cells": [
  {
   "cell_type": "markdown",
   "id": "064523f2",
   "metadata": {},
   "source": [
    "<h1> MatplotLib Learning</h1>\n",
    "<p>This is a learning based on following this playlist: <a href= https://www.youtube.com/playlist?list=PL-osiE80TeTvipOqomVEeZ1HRrcEvtZB_>Matplotlib Tutorials: Corey Schafer\n",
    "</a></p>"
   ]
  },
  {
   "cell_type": "markdown",
   "id": "1bc31200",
   "metadata": {},
   "source": [
    "## 1. Creating and Customizing Our First Plots"
   ]
  },
  {
   "cell_type": "code",
   "execution_count": null,
   "id": "3917f773",
   "metadata": {},
   "outputs": [],
   "source": [
    "data="
   ]
  },
  {
   "cell_type": "code",
   "execution_count": null,
   "id": "508453f2",
   "metadata": {},
   "outputs": [],
   "source": []
  },
  {
   "cell_type": "code",
   "execution_count": null,
   "id": "d13b73f8",
   "metadata": {},
   "outputs": [],
   "source": []
  },
  {
   "cell_type": "code",
   "execution_count": null,
   "id": "4f0aa3f7",
   "metadata": {},
   "outputs": [],
   "source": []
  },
  {
   "cell_type": "code",
   "execution_count": null,
   "id": "51d9d99d",
   "metadata": {},
   "outputs": [],
   "source": [
    "aaa"
   ]
  }
 ],
 "metadata": {
  "kernelspec": {
   "display_name": "Python 3 (ipykernel)",
   "language": "python",
   "name": "python3"
  },
  "language_info": {
   "codemirror_mode": {
    "name": "ipython",
    "version": 3
   },
   "file_extension": ".py",
   "mimetype": "text/x-python",
   "name": "python",
   "nbconvert_exporter": "python",
   "pygments_lexer": "ipython3",
   "version": "3.11.5"
  }
 },
 "nbformat": 4,
 "nbformat_minor": 5
}
